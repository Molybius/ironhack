{
 "cells": [
  {
   "cell_type": "markdown",
   "metadata": {},
   "source": [
    "<img src=\"https://bit.ly/2VnXWr2\" width=\"100\" align=\"left\">"
   ]
  },
  {
   "cell_type": "markdown",
   "metadata": {},
   "source": [
    "# Rock, Paper & Scissors\n",
    "\n",
    "Let's play the famous game against our computer. You can check the rules [here](https://en.wikipedia.org/wiki/Rock%E2%80%93paper%E2%80%93scissors). \n",
    "\n",
    "## Task\n",
    "Create a program that imitates the playability of the well known game of rock, paper, scissors. Follow the guidelines provided.\n",
    "\n",
    "## Tools\n",
    "1. Loop: **for/while**\n",
    "2. Functions: **input(), print()...**\n",
    "3. Conditional statements: **if, elif, else**\n",
    "4. Definition of functions. Modular programming\n",
    "5. Import modules\n",
    "\n",
    "**To solve this challenge, the use of functions is recommended.**\n",
    "\n",
    "#### 1. Import the choice function of the random module."
   ]
  },
  {
   "cell_type": "code",
   "execution_count": 1,
   "metadata": {},
   "outputs": [],
   "source": [
    "import random"
   ]
  },
  {
   "cell_type": "markdown",
   "metadata": {},
   "source": [
    "#### 2. Create a list that includes the 3 possible gesture options of the game: 'rock', 'paper' or 'scissors'. Store the list in a variable called `gestures`."
   ]
  },
  {
   "cell_type": "code",
   "execution_count": 2,
   "metadata": {},
   "outputs": [],
   "source": [
    "gestures=[\"rock\",\"paper\",\"scissors\"]"
   ]
  },
  {
   "cell_type": "markdown",
   "metadata": {},
   "source": [
    "#### 3. Create a variable called `n_rounds` to store the maximum number of rounds to play in a game. \n",
    "Remember that the number of rounds must be odd: 1, 3, 5, ..."
   ]
  },
  {
   "cell_type": "code",
   "execution_count": null,
   "metadata": {},
   "outputs": [],
   "source": [
    "n_rounds=int(input(\"How much rounds do you want to play? The amount of rounds need to be odd! \"))\n",
    "\n",
    "while n_rounds%2==0:\n",
    "    n_rounds=float(input(\"The number of rounds is even, please correct the input with an odd number (1,3,5,7, ...): \"))\n",
    "    if n_rounds%2==0:\n",
    "        n_rounds=float(input(\"Again, please enter an odd number: \"))\n",
    "    else:\n",
    "        continue        \n",
    "\n",
    "print(\"Alright, so you want to play %d rounds of Paper, Scissor, Stone. Let's start!\" %n_rounds)"
   ]
  },
  {
   "cell_type": "markdown",
   "metadata": {},
   "source": [
    "#### 4. Create a variable called `rounds_to_win` to store the number of rounds that a player must win to win the game.\n",
    "**Hint**: the value stored in `rounds_to_win` depends on the value of `n_rounds`. "
   ]
  },
  {
   "cell_type": "code",
   "execution_count": null,
   "metadata": {},
   "outputs": [],
   "source": [
    "import math\n",
    "rounds_to_win=math.ceil(n_rounds/2)\n",
    "#rounds_to_win=round(n_rounds/2) #<<----this doesnt work properly, but I have no clue why??? So I used math.ceil...\n",
    "#print(rounds_to_win) #checking the output\n"
   ]
  },
  {
   "cell_type": "markdown",
   "metadata": {},
   "source": [
    "#### 5. Create two variables to store the number of rounds that the computer and the player have won. Call these variables `cpu_score` and `player_score`."
   ]
  },
  {
   "cell_type": "code",
   "execution_count": null,
   "metadata": {},
   "outputs": [],
   "source": [
    "cpu_score=[]\n",
    "player_score=[]"
   ]
  },
  {
   "cell_type": "markdown",
   "metadata": {},
   "source": [
    "#### 6. Define a function that randomly returns one of the 3 gesture options.\n",
    "You will use this function to simulate the gesture choice of the computer. "
   ]
  },
  {
   "cell_type": "code",
   "execution_count": null,
   "metadata": {},
   "outputs": [],
   "source": [
    "def random_gesture(gestures):\n",
    "\n",
    "    cpus_choice=random.choice(gestures)\n",
    "    return (cpus_choice)\n",
    "    "
   ]
  },
  {
   "cell_type": "markdown",
   "metadata": {},
   "source": [
    "#### 7. Define a function that asks the player which is the gesture he or she wants to show: 'rock', 'paper' or 'scissors'.\n",
    "The player should only be allowed to choose one of the 3 gesture options. If the player's choice is not rock, paper or scissors, keep asking until it is."
   ]
  },
  {
   "cell_type": "code",
   "execution_count": null,
   "metadata": {},
   "outputs": [],
   "source": [
    "def check_correct_input():\n",
    "\n",
    "    players_choice=input(\"Wisely choose your gesture: rock, paper or scissors: \")\n",
    "\n",
    "    while (players_choice != \"rock\") and (players_choice != \"paper\") and (players_choice != \"scissors\"):\n",
    "        players_choice = input(\"Möööp, please again choose one gesture out of: rock, paper or scissors >> \")\n",
    "\n",
    "    print(\"Great, you choose %s.\" %players_choice)\n",
    "    return (players_choice)\n",
    "\n",
    "\n",
    "\n",
    "\n",
    "    "
   ]
  },
  {
   "cell_type": "markdown",
   "metadata": {},
   "source": [
    "#### 8. Define a function that checks who won a round. \n",
    "The function should return 0 if there is a tie, 1 if the computer wins and 2 if the player wins."
   ]
  },
  {
   "cell_type": "code",
   "execution_count": null,
   "metadata": {},
   "outputs": [],
   "source": [
    "def check_winner(cpus_choice,players_choice): \n",
    "    \n",
    "    tie=[]\n",
    "    cpu_wins=[]\n",
    "    player_wins=[]\n",
    "\n",
    "    if cpus_choice==\"rock\" and players_choice==\"rock\":\n",
    "        return (0)\n",
    "        tie.append(1)\n",
    "    elif cpus_choice==\"rock\" and players_choice==\"scissors\":\n",
    "        return (1)\n",
    "        cpu_wins.append(1)\n",
    "    elif cpus_choice==\"rock\" and players_choice==\"paper\":\n",
    "        return(2)\n",
    "        player_wins.append(1)\n",
    "    elif cpus_choice==\"scissors\" and players_choice==\"rock\":\n",
    "        return(2)\n",
    "        player_wins.append(1)\n",
    "    elif cpus_choice==\"scissors\" and players_choice==\"paper\":\n",
    "        return (1)\n",
    "        cpu_wins.append(1)\n",
    "    elif cpus_choice==\"scissors\" and players_choice==\"scissors\":\n",
    "        return (0)\n",
    "        tie.append(1)\n",
    "    elif cpus_choice==\"paper\" and players_choice==\"paper\":\n",
    "        return (0)\n",
    "        tie.append(1)\n",
    "    elif cpus_choice==\"paper\" and players_choice==\"rock\":\n",
    "        return (1)\n",
    "        cpu_wins.append(1)\n",
    "    elif cpus_choice==\"paper\" and players_choice==\"scissors\":\n",
    "        return(2)\n",
    "        player_wins.append(1)\n",
    "        \n",
    "    \n",
    "#check_winner(\"rock\",\"rock\")    \n"
   ]
  },
  {
   "cell_type": "markdown",
   "metadata": {},
   "source": [
    "#### 9. Define a function that prints the choice of the computer, the choice of the player and a message that announces who won the current round. \n",
    "You should also use this function to update the variables that count the number of rounds that the computer and the player have won. The score of the winner increases by one point. If there is a tie, the score does not increase."
   ]
  },
  {
   "cell_type": "code",
   "execution_count": null,
   "metadata": {},
   "outputs": [],
   "source": [
    "def who_wins():\n",
    "    print(\"The PC chose %s.\" %cpus_choice)\n",
    "    print(\"The Player chose %s.\" %players_choice)\n",
    "    print(\"The winner of the current round is %s: \" %check_winner(cpus_choice,players_choice))\n",
    "    "
   ]
  },
  {
   "cell_type": "markdown",
   "metadata": {},
   "source": [
    "#### 10. Now it's time to code the execution of the game using the functions and variables you defined above. \n",
    "\n",
    "First, create a loop structure that repeats while no player reaches the minimum score necessary to win and the number of rounds is less than the maximum number of rounds to play in a game.  \n",
    "\n",
    "Inside the loop, use the functions and variables above to create the execution of a round: ask for the player's choice, generate the random choice of the computer, show the round results, update the scores, etc. "
   ]
  },
  {
   "cell_type": "code",
   "execution_count": null,
   "metadata": {},
   "outputs": [],
   "source": []
  },
  {
   "cell_type": "markdown",
   "metadata": {},
   "source": [
    "#### 11. Print the winner of the game based on who won more rounds.\n",
    "Remember that the game might be tied. "
   ]
  },
  {
   "cell_type": "code",
   "execution_count": 5,
   "metadata": {},
   "outputs": [
    {
     "name": "stdout",
     "output_type": "stream",
     "text": [
      "How much rounds do you want to play? The amount of rounds need to be odd! 3\n",
      "Alright, so you want to play 3 rounds of Paper, Scissor, Stone. Let's start!\n",
      "Wisely choose your gesture: rock, paper or scissors: paper\n",
      "----------------------------------------------------------\n",
      "Great, you choose paper.\n",
      "The PC chose rock.\n",
      "The Player chose paper.\n",
      "The winner of the current round is the Player.\n",
      "----------------------------------------------------------\n",
      "Wisely choose your gesture: rock, paper or scissors: paper\n",
      "----------------------------------------------------------\n",
      "Great, you choose paper.\n",
      "The PC chose paper.\n",
      "The Player chose paper.\n",
      "The winner of the current round is nobody.\n",
      "----------------------------------------------------------\n",
      "Wisely choose your gesture: rock, paper or scissors: rock\n",
      "----------------------------------------------------------\n",
      "Great, you choose rock.\n",
      "The PC chose rock.\n",
      "The Player chose rock.\n",
      "The winner of the current round is nobody.\n",
      "----------------------------------------------------------\n",
      "The Player won!\n"
     ]
    }
   ],
   "source": [
    "import random\n",
    "\n",
    "gestures=[\"rock\",\"paper\",\"scissors\"]\n",
    "\n",
    "n_rounds=int(input(\"How much rounds do you want to play? The amount of rounds need to be odd! \"))\n",
    "\n",
    "while n_rounds%2==0:\n",
    "    n_rounds=float(input(\"The number of rounds is even, please correct the input with an odd number (1,3,5,7, ...): \"))\n",
    "    if n_rounds%2==0:\n",
    "        n_rounds=float(input(\"Again, please enter an odd number: \"))\n",
    "    else:\n",
    "        continue\n",
    "print(\"Alright, so you want to play %d rounds of Paper, Scissor, Stone. Let's start!\" %n_rounds)\n",
    "\n",
    "import math\n",
    "rounds_to_win=math.ceil(n_rounds/2)\n",
    "\n",
    "cpu_score=[]\n",
    "player_score=[]\n",
    "tie=[]\n",
    "\n",
    "\n",
    "jk=0\n",
    "\n",
    "while jk < n_rounds: \n",
    "\n",
    "    \n",
    "        cpus_choice=random.choice(gestures)      \n",
    "            \n",
    "    \n",
    "        players_choice=input(\"Wisely choose your gesture: rock, paper or scissors: \")\n",
    "\n",
    "        while (players_choice != \"rock\") and (players_choice != \"paper\") and (players_choice != \"scissors\"):\n",
    "            players_choice = input(\"Möööp, please again choose one gesture out of: rock, paper or scissors >> \")\n",
    "        \n",
    "        print(\"----------------------------------------------------------\")\n",
    "        print(\"Great, you choose %s.\" %players_choice)        \n",
    "            \n",
    "           \n",
    "        if cpus_choice==\"rock\" and players_choice==\"rock\":\n",
    "            #return (0)\n",
    "            tie.append(1)\n",
    "            print(\"The PC chose %s.\" %cpus_choice)\n",
    "            print(\"The Player chose %s.\" %players_choice)\n",
    "            print(\"The winner of the current round is nobody.\")\n",
    "        elif cpus_choice==\"rock\" and players_choice==\"scissors\":\n",
    "            #return (1)\n",
    "            cpu_score.append(1)\n",
    "            print(\"The PC chose %s.\" %cpus_choice)\n",
    "            print(\"The Player chose %s.\" %players_choice)\n",
    "            print(\"The winner of the current round is the CPU.\")\n",
    "        elif cpus_choice==\"rock\" and players_choice==\"paper\":\n",
    "            #return(2)\n",
    "            player_score.append(1)\n",
    "            print(\"The PC chose %s.\" %cpus_choice)\n",
    "            print(\"The Player chose %s.\" %players_choice)\n",
    "            print(\"The winner of the current round is the Player.\")\n",
    "        elif cpus_choice==\"scissors\" and players_choice==\"rock\":\n",
    "            #return(2)\n",
    "            player_score.append(1)\n",
    "            print(\"The PC chose %s.\" %cpus_choice)\n",
    "            print(\"The Player chose %s.\" %players_choice)\n",
    "            print(\"The winner of the current round is the Player.\")\n",
    "        elif cpus_choice==\"scissors\" and players_choice==\"paper\":\n",
    "            #return (1)\n",
    "            cpu_score.append(1)\n",
    "            print(\"The PC chose %s.\" %cpus_choice)\n",
    "            print(\"The Player chose %s.\" %players_choice)\n",
    "            print(\"The winner of the current round is the CPU.\")\n",
    "        elif cpus_choice==\"scissors\" and players_choice==\"scissors\":\n",
    "            #return (0)\n",
    "            tie.append(1)\n",
    "            print(\"The PC chose %s.\" %cpus_choice)\n",
    "            print(\"The Player chose %s.\" %players_choice)\n",
    "            print(\"The winner of the current round is nobody.\")\n",
    "        elif cpus_choice==\"paper\" and players_choice==\"paper\":\n",
    "            #return (0)\n",
    "            tie.append(1)\n",
    "            print(\"The PC chose %s.\" %cpus_choice)\n",
    "            print(\"The Player chose %s.\" %players_choice)\n",
    "            print(\"The winner of the current round is nobody.\")\n",
    "        elif cpus_choice==\"paper\" and players_choice==\"rock\":\n",
    "            #return (1)\n",
    "            cpu_score.append(1)\n",
    "            print(\"The PC chose %s.\" %cpus_choice)\n",
    "            print(\"The Player chose %s.\" %players_choice)\n",
    "            print(\"The winner of the current round is the CPU.\")\n",
    "        elif cpus_choice==\"paper\" and players_choice==\"scissors\":\n",
    "            #eturn(2)\n",
    "            player_score.append(1)\n",
    "            print(\"The PC chose %s.\" %cpus_choice)\n",
    "            print(\"The Player chose %s.\" %players_choice)\n",
    "            print(\"The winner of the current round is the Player.\")\n",
    "            \n",
    "        print(\"----------------------------------------------------------\")\n",
    "        \n",
    "        jk+=1\n",
    "                \n",
    "if len(cpu_score) > len(player_score):\n",
    "    print(\"The CPU won!\")\n",
    "    \n",
    "elif len(cpu_score) < len(player_score):\n",
    "    print(\"The Player won!\")\n",
    "    \n",
    "else:\n",
    "    print(\"The result is: TIE!\")  "
   ]
  },
  {
   "cell_type": "code",
   "execution_count": null,
   "metadata": {},
   "outputs": [],
   "source": []
  },
  {
   "cell_type": "raw",
   "metadata": {},
   "source": [
    "# Bonus: Rock, Paper, Scissors, Lizard & Spock\n",
    "![](images/rpsls.jpg)\n",
    "\n",
    "In this challenge, you need to improve the previous game by adding two new options. To know more about the rules of the improved version of rock, paper, scissors, check this [link](http://www.samkass.com/theories/RPSSL.html). \n",
    "\n",
    "In addition, you will also need to improve how the game interacts with the player: the number of rounds to play, which must be an odd number, will be requested to the user until a valid number is entered. Define a new function to make that request.\n",
    "\n",
    "**Hint**: Try to reuse the code that you already coded in the previous challenge. If your code is efficient, this bonus will only consist of simple modifications to the original game."
   ]
  },
  {
   "cell_type": "code",
   "execution_count": null,
   "metadata": {},
   "outputs": [],
   "source": []
  }
 ],
 "metadata": {
  "kernelspec": {
   "display_name": "Python 3",
   "language": "python",
   "name": "python3"
  },
  "language_info": {
   "codemirror_mode": {
    "name": "ipython",
    "version": 3
   },
   "file_extension": ".py",
   "mimetype": "text/x-python",
   "name": "python",
   "nbconvert_exporter": "python",
   "pygments_lexer": "ipython3",
   "version": "3.7.4"
  }
 },
 "nbformat": 4,
 "nbformat_minor": 2
}
