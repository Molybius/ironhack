{
 "cells": [
  {
   "cell_type": "markdown",
   "metadata": {},
   "source": [
    "<img src=\"https://bit.ly/2VnXWr2\" width=\"100\" align=\"left\"/>"
   ]
  },
  {
   "cell_type": "markdown",
   "metadata": {},
   "source": [
    "# Robin Hood\n",
    "Robin Hood has entered a competition to win the archery contest in Sherwood. With his bow and arrows, he needs to shoot on a target and try to hit as close as possible to the center.\n",
    "\n",
    "![](images/arrows.jpg)\n",
    "\n",
    "## Context\n",
    "In this challenge, the landing position of arrows shot by archers in the competition will be represented using 2-dimensional coordinates. \n",
    "\n",
    "In the 2-dimensional space, a point can be defined by a pair of values that correspond to the horizontal coordinate (x) and the vertical coordinate (y). For example, in our case, an arrow that hits the center of the archery target will land in position (0, 0) on the coordinate axes. \n",
    "\n",
    "The space can be divided into 4 zones (quadrants): Q1, Q2, Q3, Q4. If a point is in Q1, both its x coordinate and y coordinate are positive. Any point with a null x or y coordinate is considered to not belong to any quadrant. \n",
    "\n",
    "If you want to know more about the cartesian coordinate system, you can check this [link](https://en.wikipedia.org/wiki/Cartesian_coordinate_system). \n",
    "\n",
    "## Tools\n",
    "You don't necessarily need to use all the tools. Maybe you opt to use some of them or completely different ones, they are given to help you shape the exercise. Programming exercises can be solved in many different ways.\n",
    "* Data structures: **lists, sets, tuples**\n",
    "* Conditional statements: **if-elif-else**\n",
    "* Loop: **while/for**\n",
    "* Minimum (optional sorting)\n",
    "\n",
    "## Tasks\n",
    "Robin Hood has hit the following points:"
   ]
  },
  {
   "cell_type": "code",
   "execution_count": 4,
   "metadata": {},
   "outputs": [],
   "source": [
    "points = [(4, 5), (-0, 2), (4, 7), (1, -3), (3, -2), (4, 5), (3, 2), (5, 7), (-5, 7), (2, 2), (-4, 5), (0, -2),\n",
    "          (-4, 7), (-1, 3), (-3, 2), (-4, -5), (-3, 2), (5, 7), (5, 7), (2, 2), (9, 9), (-8, -9)]"
   ]
  },
  {
   "cell_type": "markdown",
   "metadata": {},
   "source": [
    "#### 1. Robin Hood is famous for hitting an arrow with another arrow. Find the coordinates of the points where an arrow hits another arrow."
   ]
  },
  {
   "cell_type": "code",
   "execution_count": 90,
   "metadata": {},
   "outputs": [
    {
     "name": "stdout",
     "output_type": "stream",
     "text": [
      "Wow! 5 Robin Hood like double strikes appeared\n",
      "Following coordinates (x,y) represents Robin Hood styles double-strikes: [(-3, 2), (2, 2), (4, 5), (5, 7), (5, 7)]\n"
     ]
    }
   ],
   "source": [
    "# Check-code BEGIN -->Following code returns the correct amount of double strikes for controlling the result later on\n",
    "\n",
    "points = [(4, 5), (-0, 2), (4, 7), (1, -3), (3, -2), (4, 5), (3, 2), (5, 7), (-5, 7), (2, 2), (-4, 5), (0, -2),\n",
    "          (-4, 7), (-1, 3), (-3, 2), (-4, -5), (-3, 2), (5, 7), (5, 7), (2, 2), (9, 9), (-8, -9)]\n",
    "\n",
    "if len(points)==len(set(points)):\n",
    "    print(\"No epic Robin Hood double strikes appeared.\")\n",
    "else:\n",
    "    double_strike=len(points)-len(set(points))\n",
    "    print(\"Wow! %d Robin Hood like double strikes appeared\" %double_strike)\n",
    "\n",
    "# Check-code END\n",
    "\n",
    "# I want to first sort the list and then compare neigbouring elements of equality. \n",
    "# If equal, than add the element to the list robin_hood_style.\n",
    "\n",
    "points.sort()\n",
    "\n",
    "n=0\n",
    "m=1\n",
    "robin_hood_style=[]\n",
    "\n",
    "for i in points:\n",
    "    \n",
    "    ######### this block is for checking intermediate results\n",
    "    #print(\"Das ist der Zähler n:\")\n",
    "    #print(n) #checking the loop\n",
    "    #print(\"Das ist der Zähler m:\")\n",
    "    #print(m) #checking the loop\n",
    "    #print(\"Das ist die Liste robin_hood_style\")\n",
    "    #print(robin_hood_style) #checking the loop\n",
    "    #print(\"Das ist i\")\n",
    "    #print(i) #checking the loop\n",
    "    #print(\"Das ist points[n]\")\n",
    "    #print(points[n]) #checking the loop\n",
    "    #print(\"Das ist points[m]\")\n",
    "    #print(points[m]) #checking the loop\n",
    "    ######### this block is for checking intermediate results\n",
    "    \n",
    "    if points[n]==points[m]:\n",
    "        robin_hood_style.append(i)\n",
    "        n+=1\n",
    "        if m < (len(points)-1): #this statement shall limit m not to add up further than the length of the points-list to avoid a \"index out of range\"-error\n",
    "            m+=1\n",
    "        elif m==(len(points)-1):\n",
    "            break        \n",
    "    else:\n",
    "        n+=1\n",
    "        if m < (len(points)-1):\n",
    "            m+=1\n",
    "        elif m==(len(points)-1):\n",
    "            break\n",
    "\n",
    "print(\"Following coordinates (x,y) represents Robin Hood styles double-strikes:\", robin_hood_style)"
   ]
  },
  {
   "cell_type": "markdown",
   "metadata": {},
   "source": [
    "#### 2. Calculate how many arrows have fallen in each quadrant. \n",
    "**Note**: the arrows that fall in the axis (x=0 or y=0) don't belong to any quadrant."
   ]
  },
  {
   "cell_type": "code",
   "execution_count": 4,
   "metadata": {},
   "outputs": [
    {
     "name": "stdout",
     "output_type": "stream",
     "text": [
      "10 arrows hit the quadrant Q1\n",
      "6 arrows hit the quadrant Q2\n",
      "2 arrows hit the quadrant Q3\n",
      "2 arrows hit the quadrant Q4\n"
     ]
    }
   ],
   "source": [
    "points = [(4, 5), (-0, 2), (4, 7), (1, -3), (3, -2), (4, 5), (3, 2), (5, 7), (-5, 7), (2, 2), (-4, 5), (0, -2),\n",
    "          (-4, 7), (-1, 3), (-3, 2), (-4, -5), (-3, 2), (5, 7), (5, 7), (2, 2), (9, 9), (-8, -9)]\n",
    "\n",
    "x,y =map(list, zip(*points)) #generates a x-list and y-list designated to points_list\n",
    "#print(x) #for result-checking\n",
    "#print(y) #for result-checking\n",
    "\n",
    "#I want to compare same positioned element of each x and y list and assign to each quadrant accordingly\n",
    "\n",
    "q1=[]\n",
    "q2=[]\n",
    "q3=[]\n",
    "q4=[]\n",
    "\n",
    "p=0\n",
    "\n",
    "for element in x:\n",
    "\n",
    "    if (x[p]>0) and (y[p]>0):            \n",
    "            q1.append(1)\n",
    "            p+=1            \n",
    "             \n",
    "    elif (x[p]<0) and (y[p]<0):            \n",
    "            q3.append(1)\n",
    "            p+=1            \n",
    "            \n",
    "    elif (x[p]<0) and (y[p]>0):           \n",
    "            q2.append(1)\n",
    "            p+=1            \n",
    "            \n",
    "    elif (x[p]>0) and (y[p]<0):            \n",
    "            q4.append(1)\n",
    "            p+=1\n",
    "            \n",
    "    else:\n",
    "            p+=1\n",
    "            \n",
    "print(\"%d arrows hit the quadrant Q1\" %len(q1))\n",
    "print(\"%d arrows hit the quadrant Q2\" %len(q2))\n",
    "print(\"%d arrows hit the quadrant Q3\" %len(q3))\n",
    "print(\"%d arrows hit the quadrant Q4\" %len(q4))"
   ]
  },
  {
   "cell_type": "markdown",
   "metadata": {},
   "source": [
    "#### 3. Find the point closest to the center. Calculate its distance to the center. \n",
    "Take into account that there might be more than one point at the minimum distance to the center.\n",
    "\n",
    "**Hint**: Use the Euclidean distance. You can find more information about it [here](https://en.wikipedia.org/wiki/Euclidean_distance).  \n",
    "**Hint**: Defining a function that calculates the distance to the center can help."
   ]
  },
  {
   "cell_type": "code",
   "execution_count": null,
   "metadata": {},
   "outputs": [],
   "source": []
  },
  {
   "cell_type": "code",
   "execution_count": 81,
   "metadata": {},
   "outputs": [
    {
     "name": "stdout",
     "output_type": "stream",
     "text": [
      "There are 2 nearest point to the center: \n",
      "The nearest point to the center is x=0 and y=2.\n",
      "The nearest point to the center is x=0 and y=-2.\n"
     ]
    }
   ],
   "source": [
    "#When using the equation of the Euclidean distance since one point is (0,0) that equation results \n",
    "#in the Pythagorean theorem, here assigned to the variable \"distance\"\n",
    "\n",
    "points = [(4, 5), (-0, 2), (4, 7), (1, -3), (3, -2), (4, 5), (3, 2), (5, 7), (-5, 7), (2, 2), (-4, 5), (0, -2),\n",
    "          (-4, 7), (-1, 3), (-3, 2), (-4, -5), (-3, 2), (5, 7), (5, 7), (2, 2), (9, 9), (-8, -9)]\n",
    "\n",
    "x,y =map(list, zip(*points))\n",
    "\n",
    "result=[]\n",
    "n=0\n",
    "\n",
    "for i in x:\n",
    "    \n",
    "    #import math\n",
    "    #distance= math.sqrt(math.pow(x[n],2)-math.pow(y[n],2))  <---doesnt work, I dont know why?\n",
    "    distance=((x[n]**2)+(y[n]**2))**(1/2)\n",
    "    \n",
    "    result.append(distance)\n",
    "    n+=1\n",
    "        \n",
    "    min_dist=result.index(min(result))\n",
    "    indexes = [i for i, x in enumerate(result) if x == min(result)] \n",
    "       \n",
    "print(\"There are %d nearest point to the center: \" %len(indexes))\n",
    "\n",
    "for i in indexes: \n",
    "    print(\"The nearest point to the center is x=%d and y=%d.\" %(x[i],y[i]))\n",
    " \n",
    "    \n",
    "    "
   ]
  },
  {
   "cell_type": "markdown",
   "metadata": {},
   "source": [
    "#### 4. If the archery target has a radius of 9, calculate the number of arrows that won't hit the target. \n",
    "**Hint**: Use the function created in step 3. "
   ]
  },
  {
   "cell_type": "code",
   "execution_count": 89,
   "metadata": {},
   "outputs": [
    {
     "name": "stdout",
     "output_type": "stream",
     "text": [
      "Following amount of arrows didn't hit the target: 2\n"
     ]
    }
   ],
   "source": [
    "points = [(4, 5), (-0, 2), (4, 7), (1, -3), (3, -2), (4, 5), (3, 2), (5, 7), (-5, 7), (2, 2), (-4, 5), (0, -2),\n",
    "          (-4, 7), (-1, 3), (-3, 2), (-4, -5), (-3, 2), (5, 7), (5, 7), (2, 2), (9, 9), (-8, -9)]\n",
    "\n",
    "x,y =map(list, zip(*points))\n",
    "\n",
    "result=[]\n",
    "n=0\n",
    "\n",
    "for i in x:\n",
    "    \n",
    "    distance=((x[n]**2)+(y[n]**2))**(1/2)\n",
    "    \n",
    "    result.append(distance)\n",
    "    n+=1\n",
    "    \n",
    "failed_hit=[]\n",
    "    \n",
    "for i in result:\n",
    "    if i>9:\n",
    "        failed_hit.append(1)             \n",
    "        \n",
    "print(\"Following amount of arrows didn't hit the target:\", len(failed_hit))        \n",
    " \n",
    "\n",
    "\n",
    "\n",
    "\n",
    "        "
   ]
  },
  {
   "cell_type": "code",
   "execution_count": null,
   "metadata": {},
   "outputs": [],
   "source": []
  }
 ],
 "metadata": {
  "kernelspec": {
   "display_name": "Python 3",
   "language": "python",
   "name": "python3"
  },
  "language_info": {
   "codemirror_mode": {
    "name": "ipython",
    "version": 3
   },
   "file_extension": ".py",
   "mimetype": "text/x-python",
   "name": "python",
   "nbconvert_exporter": "python",
   "pygments_lexer": "ipython3",
   "version": "3.7.4"
  }
 },
 "nbformat": 4,
 "nbformat_minor": 2
}
